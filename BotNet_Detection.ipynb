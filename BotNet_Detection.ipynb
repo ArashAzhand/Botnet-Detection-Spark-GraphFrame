{
 "cells": [
  {
   "cell_type": "markdown",
   "id": "4f186b1b-7d8e-4e5a-a856-468dc9f0dbd0",
   "metadata": {},
   "source": [
    "# Load and preprocess dataset"
   ]
  },
  {
   "cell_type": "code",
   "execution_count": 1,
   "id": "c2d8e61d-f067-4acb-b04b-0e49098a4425",
   "metadata": {},
   "outputs": [
    {
     "name": "stdout",
     "output_type": "stream",
     "text": [
      "Spark session is ready!\n"
     ]
    }
   ],
   "source": [
    "from pyspark.sql import SparkSession\n",
    "\n",
    "spark = SparkSession.builder \\\n",
    "    .appName(\"CTU13-GraphFrames\") \\\n",
    "    .config(\"spark.jars.packages\", \"graphframes:graphframes:0.8.2-spark3.0-s_2.12\") \\\n",
    "    .config(\"spark.driver.memory\", \"8g\") \\\n",
    "    .config(\"spark.executor.memory\", \"8g\") \\\n",
    "    .getOrCreate()\n",
    "\n",
    "\n",
    "print(\"Spark session is ready!\")\n"
   ]
  },
  {
   "cell_type": "code",
   "execution_count": 2,
   "id": "8610e3a2-dd5d-41b0-ad73-abbccfdab539",
   "metadata": {},
   "outputs": [
    {
     "name": "stdout",
     "output_type": "stream",
     "text": [
      "root\n",
      " |-- StartTime: string (nullable = true)\n",
      " |-- Dur: double (nullable = true)\n",
      " |-- Proto: string (nullable = true)\n",
      " |-- SrcAddr: string (nullable = true)\n",
      " |-- Sport: string (nullable = true)\n",
      " |-- Dir: string (nullable = true)\n",
      " |-- DstAddr: string (nullable = true)\n",
      " |-- Dport: string (nullable = true)\n",
      " |-- State: string (nullable = true)\n",
      " |-- sTos: integer (nullable = true)\n",
      " |-- dTos: integer (nullable = true)\n",
      " |-- TotPkts: integer (nullable = true)\n",
      " |-- TotBytes: long (nullable = true)\n",
      " |-- SrcBytes: long (nullable = true)\n",
      " |-- Label: string (nullable = true)\n",
      "\n",
      "+--------------------+-----------+-----+-------------+-----+-----+-------------+-----+-----+----+----+-------+--------+--------+--------------------+\n",
      "|           StartTime|        Dur|Proto|      SrcAddr|Sport|  Dir|      DstAddr|Dport|State|sTos|dTos|TotPkts|TotBytes|SrcBytes|               Label|\n",
      "+--------------------+-----------+-----+-------------+-----+-----+-------------+-----+-----+----+----+-------+--------+--------+--------------------+\n",
      "|2011/08/10 09:46:...|3550.182373|  udp|212.50.71.179|39678|  <->|147.32.84.229|13363|  CON|   0|   0|     12|     875|     413|flow=Background-U...|\n",
      "|2011/08/10 09:46:...|    8.83E-4|  udp|84.13.246.132|28431|  <->|147.32.84.229|13363|  CON|   0|   0|      2|     135|      75|flow=Background-U...|\n",
      "|2011/08/10 09:46:...|    3.26E-4|  tcp|217.163.21.35|   80|  <?>|147.32.86.194| 2063| FA_A|   0|   0|      2|     120|      60|     flow=Background|\n",
      "|2011/08/10 09:46:...|   0.056966|  tcp|   83.3.77.74|32882|  <?>|  147.32.85.5|21857|FA_FA|   0|   0|      3|     180|     120|     flow=Background|\n",
      "|2011/08/10 09:46:...|3427.768066|  udp|74.89.223.204|21278|  <->|147.32.84.229|13363|  CON|   0|   0|     42|    2856|    1596|flow=Background-U...|\n",
      "+--------------------+-----------+-----+-------------+-----+-----+-------------+-----+-----+----+----+-------+--------+--------+--------------------+\n",
      "only showing top 5 rows\n",
      "\n"
     ]
    }
   ],
   "source": [
    "df = spark.read.csv(\"capture20110810.csv\", header=True, inferSchema=True)\n",
    "df.printSchema()\n",
    "df.show(5)"
   ]
  },
  {
   "cell_type": "code",
   "execution_count": 3,
   "id": "6698cc64-8d15-4b4c-b9b0-f58bdd24cfdc",
   "metadata": {},
   "outputs": [
    {
     "name": "stdout",
     "output_type": "stream",
     "text": [
      "+---------------+-------------+---+--------------------+-----------+\n",
      "|        SrcAddr|      DstAddr|Dir|               Label|LabelSimple|\n",
      "+---------------+-------------+---+--------------------+-----------+\n",
      "|  212.50.71.179|147.32.84.229|<->|flow=Background-U...| Background|\n",
      "|  84.13.246.132|147.32.84.229|<->|flow=Background-U...| Background|\n",
      "|  217.163.21.35|147.32.86.194|<?>|     flow=Background| Background|\n",
      "|     83.3.77.74|  147.32.85.5|<?>|     flow=Background| Background|\n",
      "|  74.89.223.204|147.32.84.229|<->|flow=Background-U...| Background|\n",
      "| 66.169.184.207|147.32.84.229|<?>|     flow=Background| Background|\n",
      "|182.239.167.121|147.32.84.229|<->|flow=Background-U...| Background|\n",
      "|    147.32.3.93| 147.32.84.59|<?>|flow=Background-E...| Background|\n",
      "|  24.117.206.20|147.32.84.229|<->|flow=Background-U...| Background|\n",
      "|   94.208.78.74|147.32.84.229|<?>|     flow=Background| Background|\n",
      "+---------------+-------------+---+--------------------+-----------+\n",
      "only showing top 10 rows\n",
      "\n",
      "+-----------+-------+\n",
      "|LabelSimple|  count|\n",
      "+-----------+-------+\n",
      "| Background|2753288|\n",
      "|     Normal|  30387|\n",
      "|     Botnet|  40961|\n",
      "+-----------+-------+\n",
      "\n"
     ]
    }
   ],
   "source": [
    "from pyspark.sql.functions import when, col, trim\n",
    "\n",
    "# 2. Simplify Label column\n",
    "df = df.withColumn(\n",
    "    \"LabelSimple\",\n",
    "    when(col(\"Label\").contains(\"Botnet\"), \"Botnet\")\n",
    "    .when(col(\"Label\").contains(\"Normal\"), \"Normal\")\n",
    "    .when(col(\"Label\").contains(\"Background\"), \"Background\")\n",
    "    .otherwise(\"Unknown\")\n",
    ")\n",
    "\n",
    "# 3. (Optional) clean Dir column - trim whitespace\n",
    "df = df.withColumn(\"Dir\", trim(col(\"Dir\")))\n",
    "\n",
    "# 4. Show sample\n",
    "df.select(\"SrcAddr\", \"DstAddr\", \"Dir\", \"Label\", \"LabelSimple\").show(10)\n",
    "\n",
    "# 5. Check class counts\n",
    "df.groupBy(\"LabelSimple\").count().show()"
   ]
  },
  {
   "cell_type": "markdown",
   "id": "2cee24b1-6e8f-4c64-aa16-3dd1c7f11efa",
   "metadata": {},
   "source": [
    "# Build the graph vertices and edges"
   ]
  },
  {
   "cell_type": "code",
   "execution_count": 4,
   "id": "f971d73f-f01b-4c8d-9518-6cf96c117827",
   "metadata": {},
   "outputs": [
    {
     "name": "stdout",
     "output_type": "stream",
     "text": [
      "Total vertices (unique IPs): 607565\n",
      "Total edges (flows): 2824636\n",
      "+---------------+\n",
      "|             id|\n",
      "+---------------+\n",
      "|   79.47.168.89|\n",
      "|  175.145.89.85|\n",
      "|  78.26.213.255|\n",
      "| 200.110.34.192|\n",
      "|113.119.179.107|\n",
      "+---------------+\n",
      "only showing top 5 rows\n",
      "\n",
      "+-------------+-------------+---+-------+--------+-----------+-----------+\n",
      "|          src|          dst|Dir|TotPkts|TotBytes|        Dur|LabelSimple|\n",
      "+-------------+-------------+---+-------+--------+-----------+-----------+\n",
      "|212.50.71.179|147.32.84.229|<->|     12|     875|3550.182373| Background|\n",
      "|84.13.246.132|147.32.84.229|<->|      2|     135|    8.83E-4| Background|\n",
      "|217.163.21.35|147.32.86.194|<?>|      2|     120|    3.26E-4| Background|\n",
      "|   83.3.77.74|  147.32.85.5|<?>|      3|     180|   0.056966| Background|\n",
      "|74.89.223.204|147.32.84.229|<->|     42|    2856|3427.768066| Background|\n",
      "+-------------+-------------+---+-------+--------+-----------+-----------+\n",
      "only showing top 5 rows\n",
      "\n"
     ]
    }
   ],
   "source": [
    "# Create vertices DataFrame: distinct IPs as \"id\"\n",
    "src_vertices = df.select(col(\"SrcAddr\").alias(\"id\"))\n",
    "dst_vertices = df.select(col(\"DstAddr\").alias(\"id\"))\n",
    "vertices = src_vertices.union(dst_vertices).distinct()\n",
    "\n",
    "print(f\"Total vertices (unique IPs): {vertices.count()}\")\n",
    "\n",
    "# Create edges DataFrame: source, destination, and features\n",
    "edges = df.select(\n",
    "    col(\"SrcAddr\").alias(\"src\"),\n",
    "    col(\"DstAddr\").alias(\"dst\"),\n",
    "    \"Dir\",\n",
    "    \"TotPkts\",\n",
    "    \"TotBytes\",\n",
    "    \"Dur\",\n",
    "    \"LabelSimple\"\n",
    ")\n",
    "\n",
    "print(f\"Total edges (flows): {edges.count()}\")\n",
    "\n",
    "# Show samples\n",
    "vertices.show(5)\n",
    "edges.show(5)\n"
   ]
  },
  {
   "cell_type": "markdown",
   "id": "da9f5e54-efaa-47d9-a171-7c6d03cda093",
   "metadata": {},
   "source": [
    "# Build GraphFrame and calculate graph features"
   ]
  },
  {
   "cell_type": "code",
   "execution_count": 5,
   "id": "d789da2b-2bc9-480b-82e8-043f27f5f092",
   "metadata": {},
   "outputs": [
    {
     "name": "stderr",
     "output_type": "stream",
     "text": [
      "/usr/local/spark/python/pyspark/sql/dataframe.py:168: UserWarning: DataFrame.sql_ctx is an internal property, and will be removed in future releases. Use DataFrame.sparkSession instead.\n",
      "  warnings.warn(\n",
      "/usr/local/spark/python/pyspark/sql/dataframe.py:147: UserWarning: DataFrame constructor is internal. Do not directly use it.\n",
      "  warnings.warn(\"DataFrame constructor is internal. Do not directly use it.\")\n"
     ]
    },
    {
     "name": "stdout",
     "output_type": "stream",
     "text": [
      "+-------------+------+------------------+\n",
      "|           id|degree|          pagerank|\n",
      "+-------------+------+------------------+\n",
      "|    1.11.9.68|     1|0.2649998684189333|\n",
      "|   1.112.1.75|     1|0.2649998684189333|\n",
      "|1.112.194.162|     1|0.2649998684189333|\n",
      "|  1.112.61.49|     2|0.2649998684189333|\n",
      "| 1.112.84.202|     1|0.2649998684189333|\n",
      "| 1.114.18.255|     1|0.2649998684189333|\n",
      "|1.114.182.185|     1|0.2649998684189333|\n",
      "| 1.114.39.141|     1|0.2649998684189333|\n",
      "|1.115.114.142|     1|0.2649998684189333|\n",
      "|  1.115.16.31|     1|0.2649998684189333|\n",
      "| 1.115.20.181|     1|0.2649998684189333|\n",
      "| 1.115.41.235|     4|0.2649998684189333|\n",
      "|  1.115.86.49|     1|0.2649998684189333|\n",
      "|1.126.227.134|     1|0.2649998684189333|\n",
      "|1.144.212.222|     1|0.2649998684189333|\n",
      "|1.144.240.115|     1|0.2649998684189333|\n",
      "| 1.144.66.157|     1|0.2649998684189333|\n",
      "| 1.144.92.135|     1|0.2649998684189333|\n",
      "|1.148.137.214|     1|0.2649998684189333|\n",
      "|1.148.158.169|     1|0.2649998684189333|\n",
      "+-------------+------+------------------+\n",
      "only showing top 20 rows\n",
      "\n"
     ]
    }
   ],
   "source": [
    "from graphframes import GraphFrame\n",
    "\n",
    "# Create GraphFrame\n",
    "g = GraphFrame(vertices, edges)\n",
    "\n",
    "# Degree (number of edges for each node)\n",
    "degree_df = g.degrees\n",
    "\n",
    "# PageRank (importance score)\n",
    "pr_results = g.pageRank(resetProbability=0.15, maxIter=5)\n",
    "pagerank_df = pr_results.vertices.select(\"id\", \"pagerank\")\n",
    "\n",
    "# Merge degree and pagerank\n",
    "features_df = degree_df.join(pagerank_df, on=\"id\", how=\"outer\").fillna(0)\n",
    "\n",
    "# Show results\n",
    "features_df.show(20)"
   ]
  },
  {
   "cell_type": "code",
   "execution_count": 6,
   "id": "897552c4-507b-4e69-847d-d51605873262",
   "metadata": {},
   "outputs": [
    {
     "name": "stdout",
     "output_type": "stream",
     "text": [
      "+--------------+-------+------------------+\n",
      "|            id| degree|          pagerank|\n",
      "+--------------+-------+------------------+\n",
      "| 147.32.84.229|1205453| 281911.6059763415|\n",
      "|   147.32.80.9| 962879|  2453.00261124487|\n",
      "| 147.32.84.138| 530947| 260.3953698073445|\n",
      "|  147.32.84.59| 278121| 2176.858099329223|\n",
      "| 147.32.85.100|  66941|105.53609275826174|\n",
      "|   70.37.98.60|  64001|0.2649998684189333|\n",
      "|  147.32.85.25|  44954|32.074195954051206|\n",
      "| 147.32.84.165|  41270|18.367273310788168|\n",
      "|  147.32.85.34|  37155| 45.77943988526621|\n",
      "| 147.32.85.124|  32890|2780.4075977826337|\n",
      "|  147.32.86.20|  30621|0.8316268390793408|\n",
      "| 147.32.84.171|  29580|199.71036938450374|\n",
      "| 147.32.86.194|  20369| 1064.948222559075|\n",
      "|  147.32.80.13|  20050| 387.6110669443682|\n",
      "| 147.32.84.170|  18471|1.3744038911363414|\n",
      "|  147.32.86.99|  12984|142.29167627715552|\n",
      "|   147.32.85.7|  11995|1.2953898451606114|\n",
      "|111.221.102.89|  11177|2.3140402320645137|\n",
      "|188.205.231.61|  11010|0.6076637755919994|\n",
      "| 147.32.86.187|  10504|  88.9651691897905|\n",
      "+--------------+-------+------------------+\n",
      "only showing top 20 rows\n",
      "\n",
      "+--------------+-------+------------------+\n",
      "|            id| degree|          pagerank|\n",
      "+--------------+-------+------------------+\n",
      "| 147.32.84.229|1205453| 281911.6059763415|\n",
      "| 192.168.88.28|    145|2840.4108189077915|\n",
      "| 147.32.85.124|  32890|2780.4075977826337|\n",
      "| 147.32.86.165|   4017|2494.5033945195055|\n",
      "|   147.32.80.9| 962879|  2453.00261124487|\n",
      "|  147.32.84.59| 278121| 2176.858099329223|\n",
      "| 147.32.86.194|  20369| 1064.948222559075|\n",
      "|192.168.95.255|   1979| 908.3845208106275|\n",
      "|  147.32.85.26|   6668|465.52193555079896|\n",
      "|192.168.88.146|    312|427.78593569476965|\n",
      "|  147.32.80.13|  20050| 387.6110669443682|\n",
      "| 147.32.84.117|    617|  326.940831944978|\n",
      "| 147.32.86.245|    109|299.57848438900527|\n",
      "| 147.32.84.199|    295| 299.3846270446198|\n",
      "| 147.32.84.138| 530947| 260.3953698073445|\n",
      "|   147.32.85.5|   3565| 259.4258088412982|\n",
      "| 147.32.86.247|    103| 249.8866623014054|\n",
      "| 147.32.86.179|   6983|244.79454227526344|\n",
      "|   147.32.84.2|   6312|212.88917210093837|\n",
      "| 147.32.84.171|  29580|199.71036938450374|\n",
      "+--------------+-------+------------------+\n",
      "only showing top 20 rows\n",
      "\n"
     ]
    }
   ],
   "source": [
    "features_df.orderBy(\"degree\", ascending=False).show(20)\n",
    "features_df.orderBy(\"pagerank\", ascending=False).show(20)"
   ]
  },
  {
   "cell_type": "code",
   "execution_count": 7,
   "id": "72789079-c35d-4287-85cc-8c052601575a",
   "metadata": {},
   "outputs": [
    {
     "name": "stdout",
     "output_type": "stream",
     "text": [
      "+---------------+------+------------------+\n",
      "|             id|degree|          pagerank|\n",
      "+---------------+------+------------------+\n",
      "| 130.88.253.235|    11|0.3276021766737082|\n",
      "|  124.9.193.192|    11|0.3081392506353116|\n",
      "|  125.63.74.104|    11|0.2649998684189333|\n",
      "| 190.25.220.116|    11|0.2649998684189333|\n",
      "| 125.230.131.37|    11|2.2102342384119584|\n",
      "| 128.178.114.65|    11|0.2649998684189333|\n",
      "|  193.68.35.136|    11| 0.324745687399268|\n",
      "|  109.95.30.253|    11| 5.048410128349964|\n",
      "|  126.163.72.75|    11|0.2649998684189333|\n",
      "|  14.102.15.201|    11|0.2649998684189333|\n",
      "| 128.32.251.121|    11| 4.187126727753384|\n",
      "| 110.165.222.99|    11|1.2546904102122027|\n",
      "| 195.199.197.37|    11|0.3105288198769514|\n",
      "|   141.2.55.214|    11|   3.1348733756968|\n",
      "|124.186.198.222|    11|0.2649998684189333|\n",
      "|  114.24.142.20|    11| 5.042719009417711|\n",
      "|  115.111.218.6|    11|0.2649998684189333|\n",
      "| 141.30.211.176|    11|0.2649998684189333|\n",
      "|135.196.102.220|    11|0.2649998684189333|\n",
      "| 114.34.109.192|    11| 1.241779388130868|\n",
      "+---------------+------+------------------+\n",
      "only showing top 20 rows\n",
      "\n"
     ]
    }
   ],
   "source": [
    "features_df.filter(col(\"degree\") > 10).orderBy(\"degree\", ascending=True).show(20)"
   ]
  },
  {
   "cell_type": "markdown",
   "id": "4142d335-a342-4d22-af62-45d729ab490d",
   "metadata": {},
   "source": [
    "# check what these IPs actually are"
   ]
  },
  {
   "cell_type": "markdown",
   "id": "42a47c14-9fe4-457e-892c-b544364fd91e",
   "metadata": {},
   "source": [
    "I want to see if these IPs with high degree and pagerank, mostly occur in \"Botnet\" labeled flows, \"Background\", or \"Normal\"."
   ]
  },
  {
   "cell_type": "code",
   "execution_count": 8,
   "id": "0117380c-debd-46c6-92c4-9f1612f871c2",
   "metadata": {},
   "outputs": [
    {
     "name": "stdout",
     "output_type": "stream",
     "text": [
      "['147.32.84.229', '147.32.80.9', '147.32.84.138', '147.32.84.59', '147.32.85.100', '70.37.98.60', '147.32.85.25', '147.32.84.165', '147.32.85.34', '147.32.85.124', '147.32.86.20', '147.32.84.171', '147.32.86.194', '147.32.80.13', '147.32.84.170', '147.32.86.99', '147.32.85.7', '111.221.102.89', '188.205.231.61', '147.32.86.187']\n",
      "+-----------+-------+\n",
      "|LabelSimple|count  |\n",
      "+-----------+-------+\n",
      "|Background |2523280|\n",
      "|Normal     |27121  |\n",
      "|Botnet     |40961  |\n",
      "+-----------+-------+\n",
      "\n"
     ]
    }
   ],
   "source": [
    "# Pick top IPs to analyze\n",
    "top_ips = [row['id'] for row in features_df.orderBy(col(\"degree\").desc()).limit(20).collect()]\n",
    "\n",
    "print(top_ips)\n",
    "\n",
    "# Filter edges where src or dst in top_ips\n",
    "filtered_edges = edges.filter(\n",
    "    (col(\"src\").isin(top_ips)) | (col(\"dst\").isin(top_ips))\n",
    ")\n",
    "\n",
    "# Count label distribution\n",
    "label_counts = filtered_edges.groupBy(\"LabelSimple\").count()\n",
    "label_counts.show(truncate=False)\n"
   ]
  },
  {
   "cell_type": "markdown",
   "id": "543a9b1c-3198-4be9-a600-3065637d7e10",
   "metadata": {},
   "source": [
    "Original data based on labels:\n",
    "\n",
    "**we can see that these 20 IPs appeard in all of the Botnet connections while they appear in almost 90% of the Background and Normal connections.**\n",
    "\n",
    "| LabelSimple |  count  |\n",
    "|-------------|---------|\n",
    "| Background  | 2753288 |\n",
    "| Normal      |   30387 |\n",
    "| Botnet      |   40961 |\n",
    "\n",
    "* These 20 IPs are involved in all botnet flows — meaning they either sent to or received from these flows.\n",
    "* But that doesn’t mean they are the only IPs doing botnet communication. There could be other \"low degree\" IPs as well, just less central.\n",
    "* Big IPs act as \"hubs\" for all botnet traffic → they are highly suspicious.ons.**"
   ]
  },
  {
   "cell_type": "markdown",
   "id": "c0234cff-ff3b-43e5-848a-deb627b038d6",
   "metadata": {},
   "source": [
    "### check flow statistics"
   ]
  },
  {
   "cell_type": "code",
   "execution_count": 9,
   "id": "12e3116e-0f0c-48db-9855-12c085094b2d",
   "metadata": {},
   "outputs": [
    {
     "name": "stdout",
     "output_type": "stream",
     "text": [
      "+---------------+------------------+------------------+---------------------+\n",
      "|src            |avg_packets       |avg_bytes         |avg_duration         |\n",
      "+---------------+------------------+------------------+---------------------+\n",
      "|79.47.168.89   |121.5             |10822.0           |1473.768279          |\n",
      "|175.145.89.85  |27.75             |7510.125          |1528.136763125       |\n",
      "|78.26.213.255  |119.5             |21039.25          |3519.92791725        |\n",
      "|113.119.179.107|30.0              |1980.0            |2271.650146          |\n",
      "|151.55.55.208  |10.0              |1478.5            |45.798345999999995   |\n",
      "|212.160.150.178|4.0               |272.0             |1899.3423169999999   |\n",
      "|94.112.245.51  |3.0               |627.0             |182.902081           |\n",
      "|178.177.5.134  |232.66666666666666|23466.666666666668|3084.120198666667    |\n",
      "|77.76.137.219  |2.0               |137.66666666666666|0.0012616666666666668|\n",
      "|129.215.127.168|12.0              |1713.0            |3489.844238          |\n",
      "|90.199.18.168  |4.0               |278.0             |1971.671753          |\n",
      "|92.246.202.184 |11.0              |740.0             |1055.649892          |\n",
      "|87.144.120.180 |2.0               |136.0             |7.74E-4              |\n",
      "|78.87.139.254  |2.0               |137.0             |8.0E-4               |\n",
      "|85.14.56.131   |3.75              |937.375           |913.721439875        |\n",
      "|66.220.151.79  |20.0              |5108.5            |108.4628755          |\n",
      "|99.226.138.24  |3.0               |330.5             |1383.971068          |\n",
      "|121.131.140.138|2.0               |135.0             |0.026027             |\n",
      "|41.73.196.187  |5.333333333333333 |368.0             |2630.8587646666665   |\n",
      "|98.218.251.30  |8.0               |833.5             |1524.253967          |\n",
      "+---------------+------------------+------------------+---------------------+\n",
      "only showing top 20 rows\n",
      "\n"
     ]
    }
   ],
   "source": [
    "from pyspark.sql.functions import avg\n",
    "\n",
    "stats = filtered_edges.groupBy(\"src\").agg(\n",
    "    avg(\"TotPkts\").alias(\"avg_packets\"),\n",
    "    avg(\"TotBytes\").alias(\"avg_bytes\"),\n",
    "    avg(\"Dur\").alias(\"avg_duration\")\n",
    ")\n",
    "stats.show(truncate=False)\n"
   ]
  },
  {
   "cell_type": "markdown",
   "id": "17fa3677-8a42-4b68-9bd5-8d025a2227f3",
   "metadata": {},
   "source": [
    "# Botnet ratio analysis"
   ]
  },
  {
   "cell_type": "markdown",
   "id": "78bfe2a2-0cf8-4a63-9cf5-43eb6eefc76d",
   "metadata": {},
   "source": [
    "It helps us figure out how suspicious an IP is based on the proportion of its botnet-related traffic compared to all its traffic."
   ]
  },
  {
   "cell_type": "code",
   "execution_count": 11,
   "id": "d3c6056d-d580-4f54-85ef-ce730b24c764",
   "metadata": {},
   "outputs": [
    {
     "name": "stdout",
     "output_type": "stream",
     "text": [
      "+--------------+----------+------+------+----------+-----------+\n",
      "|id            |Background|Botnet|Normal|TotalFlows|BotnetRatio|\n",
      "+--------------+----------+------+------+----------+-----------+\n",
      "|199.246.162.3 |0         |1     |0     |1         |1.0        |\n",
      "|195.54.209.230|0         |1     |0     |1         |1.0        |\n",
      "|95.173.131.22 |0         |1     |0     |1         |1.0        |\n",
      "|78.47.149.170 |0         |1     |0     |1         |1.0        |\n",
      "|212.44.70.17  |0         |1     |0     |1         |1.0        |\n",
      "|206.54.145.17 |0         |3     |0     |3         |1.0        |\n",
      "|92.255.72.5   |0         |1     |0     |1         |1.0        |\n",
      "|134.96.100.105|0         |1     |0     |1         |1.0        |\n",
      "|212.48.128.30 |0         |1     |0     |1         |1.0        |\n",
      "|195.34.238.53 |0         |1     |0     |1         |1.0        |\n",
      "|62.58.96.132  |0         |1     |0     |1         |1.0        |\n",
      "|80.84.34.78   |0         |1     |0     |1         |1.0        |\n",
      "|67.19.72.206  |0         |1     |0     |1         |1.0        |\n",
      "|91.217.56.202 |0         |1     |0     |1         |1.0        |\n",
      "|64.46.45.27   |0         |1     |0     |1         |1.0        |\n",
      "|209.84.253.95 |0         |1     |0     |1         |1.0        |\n",
      "|139.142.139.89|0         |1     |0     |1         |1.0        |\n",
      "|61.17.216.26  |0         |1     |0     |1         |1.0        |\n",
      "|218.102.53.145|0         |2     |0     |2         |1.0        |\n",
      "|92.255.21.11  |0         |1     |0     |1         |1.0        |\n",
      "+--------------+----------+------+------+----------+-----------+\n",
      "only showing top 20 rows\n",
      "\n"
     ]
    }
   ],
   "source": [
    "from pyspark.sql.functions import col, when, lit, sum as _sum\n",
    "\n",
    "# 1. Extract flows for each IP as source or destination\n",
    "src_df = edges.select(col(\"src\").alias(\"id\"), \"LabelSimple\")\n",
    "dst_df = edges.select(col(\"dst\").alias(\"id\"), \"LabelSimple\")\n",
    "\n",
    "# 2. Combine\n",
    "all_ip_flows = src_df.union(dst_df)\n",
    "\n",
    "# 3. Count Botnet, Normal, Background flows per IP\n",
    "ip_flow_counts = all_ip_flows.groupBy(\"id\").pivot(\"LabelSimple\").count().fillna(0)\n",
    "\n",
    "# 4. Calculate total flows per IP\n",
    "ip_flow_counts = ip_flow_counts.withColumn(\n",
    "    \"TotalFlows\", col(\"Botnet\") + col(\"Normal\") + col(\"Background\")\n",
    ")\n",
    "\n",
    "# 5. Calculate Botnet ratio\n",
    "ip_flow_counts = ip_flow_counts.withColumn(\n",
    "    \"BotnetRatio\", col(\"Botnet\") / col(\"TotalFlows\")\n",
    ")\n",
    "\n",
    "# 6. Sort by BotnetRatio descending to see suspicious IPs first\n",
    "ip_flow_counts.orderBy(col(\"BotnetRatio\").desc()).show(20, False)\n"
   ]
  },
  {
   "cell_type": "markdown",
   "id": "306b4bd1-fb95-4b78-a2ad-77f0267e48ca",
   "metadata": {},
   "source": [
    "**these IPs are likely botnet-infected hosts or botmasters.**"
   ]
  },
  {
   "cell_type": "markdown",
   "id": "040d47fe-26c3-4fc7-aa0f-6ae8c3db39ff",
   "metadata": {},
   "source": [
    "# Feature Engineering and Applying RandomForest "
   ]
  },
  {
   "cell_type": "code",
   "execution_count": 12,
   "id": "5f117c34-510e-4816-ac62-d3cb516ddd6e",
   "metadata": {},
   "outputs": [],
   "source": [
    "from pyspark.ml.feature import StringIndexer\n",
    "\n",
    "# Encode Protocol (Proto)\n",
    "proto_indexer = StringIndexer(inputCol=\"Proto\", outputCol=\"ProtoIdx\").fit(df)\n",
    "df = proto_indexer.transform(df)\n",
    "\n",
    "# Encode Direction (Dir)\n",
    "dir_indexer = StringIndexer(inputCol=\"Dir\", outputCol=\"DirIdx\").fit(df)\n",
    "df = dir_indexer.transform(df)\n"
   ]
  },
  {
   "cell_type": "code",
   "execution_count": 16,
   "id": "6d2292bd-88dc-4e67-9f70-75c61c610d1f",
   "metadata": {},
   "outputs": [],
   "source": [
    "# Prepare source features with renamed columns\n",
    "src_features = features_df.selectExpr(\"id as src_id\", \"degree as src_degree\", \"pagerank as src_pagerank\")\n",
    "\n",
    "# Join source features on SrcAddr == src_id\n",
    "df = df.join(src_features, df.SrcAddr == src_features.src_id, \"left\").drop(\"src_id\")\n",
    "\n",
    "# Prepare destination features with renamed columns\n",
    "dst_features = features_df.selectExpr(\"id as dst_id\", \"degree as dst_degree\", \"pagerank as dst_pagerank\")\n",
    "\n",
    "# Join destination features on DstAddr == dst_id\n",
    "df = df.join(dst_features, df.DstAddr == dst_features.dst_id, \"left\").drop(\"dst_id\")\n"
   ]
  },
  {
   "cell_type": "code",
   "execution_count": 18,
   "id": "bcd0a544-ded8-4f54-912a-0361c9be900d",
   "metadata": {},
   "outputs": [],
   "source": [
    "from pyspark.sql.functions import when, col\n",
    "\n",
    "df = df.withColumn(\"label\", when(col(\"LabelSimple\") == \"Botnet\", 1).otherwise(0))"
   ]
  },
  {
   "cell_type": "code",
   "execution_count": 20,
   "id": "4ad0ede1-eb6e-4586-8afb-9a4e877d2b4b",
   "metadata": {},
   "outputs": [],
   "source": [
    "from pyspark.ml.feature import StringIndexer, VectorAssembler\n",
    "\n",
    "# 1. Convert label to numeric index\n",
    "label_indexer = StringIndexer(inputCol=\"LabelSimple\", outputCol=\"labelIndex\")\n",
    "df = label_indexer.fit(df).transform(df)\n",
    "\n",
    "# 2. Assemble features into a vector column\n",
    "assembler = VectorAssembler(\n",
    "    inputCols=[\"TotPkts\", \"TotBytes\", \"Dur\", \"src_degree\", \"src_pagerank\", \"dst_degree\", \"dst_pagerank\"],\n",
    "    outputCol=\"features\"\n",
    ")\n",
    "df = assembler.transform(df)\n"
   ]
  },
  {
   "cell_type": "code",
   "execution_count": 22,
   "id": "287ffa36-b3b3-4c87-bc2f-82d1e0a5fda4",
   "metadata": {},
   "outputs": [],
   "source": [
    "train_df, test_df = df.randomSplit([0.7, 0.3], seed=50)"
   ]
  },
  {
   "cell_type": "code",
   "execution_count": 23,
   "id": "3a80c22d-e14f-484e-8d47-b1be371bd22b",
   "metadata": {},
   "outputs": [],
   "source": [
    "from pyspark.ml.classification import RandomForestClassifier\n",
    "\n",
    "rf = RandomForestClassifier(labelCol=\"labelIndex\", featuresCol=\"features\", numTrees=50)\n",
    "model = rf.fit(train_df)"
   ]
  },
  {
   "cell_type": "code",
   "execution_count": 24,
   "id": "1775e90f-94af-40bd-b7d6-a645e0e2bf9c",
   "metadata": {},
   "outputs": [
    {
     "name": "stdout",
     "output_type": "stream",
     "text": [
      "Test F1 Score = 0.9810\n"
     ]
    }
   ],
   "source": [
    "predictions = model.transform(test_df)\n",
    "\n",
    "from pyspark.ml.evaluation import MulticlassClassificationEvaluator\n",
    "\n",
    "f1_evaluator = MulticlassClassificationEvaluator(\n",
    "    labelCol=\"labelIndex\",\n",
    "    predictionCol=\"prediction\",\n",
    "    metricName=\"f1\"\n",
    ")\n",
    "\n",
    "f1_score = f1_evaluator.evaluate(predictions)\n",
    "print(f\"Test F1 Score = {f1_score:.4f}\")"
   ]
  },
  {
   "cell_type": "markdown",
   "id": "d5402ff1-a2aa-4cbf-8a23-12ee7e082a5c",
   "metadata": {},
   "source": [
    "### show classification report in Pandas"
   ]
  },
  {
   "cell_type": "code",
   "execution_count": 25,
   "id": "0728dbbd-46c1-4653-82b8-9237f698994b",
   "metadata": {},
   "outputs": [],
   "source": [
    "# Select only prediction and true label columns and convert to Pandas\n",
    "pred_labels_pd = predictions.select(\"prediction\", \"labelIndex\").toPandas()"
   ]
  },
  {
   "cell_type": "code",
   "execution_count": 26,
   "id": "2671bca7-ce6a-484a-a296-0d51e58939d6",
   "metadata": {},
   "outputs": [
    {
     "name": "stdout",
     "output_type": "stream",
     "text": [
      "              precision    recall  f1-score   support\n",
      "\n",
      "         0.0       0.99      1.00      0.99    824854\n",
      "         1.0       1.00      0.81      0.90     12467\n",
      "         2.0       0.95      0.00      0.00      9156\n",
      "\n",
      "    accuracy                           0.99    846477\n",
      "   macro avg       0.98      0.61      0.63    846477\n",
      "weighted avg       0.99      0.99      0.98    846477\n",
      "\n"
     ]
    }
   ],
   "source": [
    "from sklearn.metrics import classification_report\n",
    "import numpy as np\n",
    "\n",
    "# Make sure predictions and labels are numpy arrays\n",
    "y_pred = pred_labels_pd[\"prediction\"].values\n",
    "y_true = pred_labels_pd[\"labelIndex\"].values\n",
    "\n",
    "report = classification_report(y_true, y_pred, output_dict=True)\n",
    "\n",
    "print(classification_report(y_true, y_pred))"
   ]
  },
  {
   "cell_type": "code",
   "execution_count": 30,
   "id": "3aed5e1a-998a-4924-8270-fbc921a18e51",
   "metadata": {},
   "outputs": [
    {
     "data": {
      "image/png": "[encoded data removed]",
      "text/plain": [
       "<Figure size 1000x600 with 2 Axes>"
      ]
     },
     "metadata": {},
     "output_type": "display_data"
    }
   ],
   "source": [
    "import matplotlib.pyplot as plt\n",
    "import seaborn as sns\n",
    "import pandas as pd\n",
    "\n",
    "# Convert dict to DataFrame (remove 'accuracy' entry because it’s a scalar)\n",
    "report_df = pd.DataFrame(report).drop(columns=[\"accuracy\"]).T\n",
    "\n",
    "# Plot heatmap for precision, recall, f1-score\n",
    "plt.figure(figsize=(10, 6))\n",
    "sns.heatmap(report_df.iloc[:, :-1], annot=True, cmap=\"Blues\")\n",
    "plt.title(\"Classification Report Metrics per Class\")\n",
    "plt.show()\n"
   ]
  },
  {
   "cell_type": "markdown",
   "id": "bbce14a1-6758-4241-9480-7821c8a576c7",
   "metadata": {},
   "source": [
    "The classification report shows that class 0.0 (Background) has very high precision and recall (almost perfect), meaning the model easily detects these dominant background flows. Class 1.0 (Botnet) also performs well with high precision and good recall (0.81), indicating it can identify botnet connections reasonably well, although some are still missed. However, class 2.0 (Normal) has an F1-score and recall of 0, meaning the model fails to correctly classify any Normal samples and never predicts this label. This happens because of strong class imbalance: Background samples vastly outnumber Normal and Botnet samples, causing the model to bias toward the majority class and struggle with underrepresented ones. Overall accuracy appears high (0.99), but this metric is misleading here since it is mostly driven by the dominant Background class. To improve, we should consider rebalancing the dataset (e.g., through oversampling minority classes or undersampling Background) and adding additional discriminative features to help the model better separate Normal and Botnet connections from Background traffic."
   ]
  },
  {
   "cell_type": "code",
   "execution_count": null,
   "id": "8b0243c6-62d8-42ab-b702-57b3cad100c1",
   "metadata": {},
   "outputs": [],
   "source": []
  }
 ],
 "metadata": {
  "kernelspec": {
   "display_name": "Python 3 (ipykernel)",
   "language": "python",
   "name": "python3"
  },
  "language_info": {
   "codemirror_mode": {
    "name": "ipython",
    "version": 3
   },
   "file_extension": ".py",
   "mimetype": "text/x-python",
   "name": "python",
   "nbconvert_exporter": "python",
   "pygments_lexer": "ipython3",
   "version": "3.11.6"
  }
 },
 "nbformat": 4,
 "nbformat_minor": 5
}
